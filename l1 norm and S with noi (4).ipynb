{
 "cells": [
  {
   "cell_type": "code",
   "execution_count": 1,
   "id": "7ced57ef",
   "metadata": {},
   "outputs": [],
   "source": [
    "from qiskit.quantum_info import Statevector, Operator\n",
    "from qiskit import QuantumCircuit, Aer, execute\n",
    "import numpy as np\n",
    "import math\n",
    "import matplotlib.pyplot as pl\n",
    "import random"
   ]
  },
  {
   "cell_type": "markdown",
   "id": "3f391b16",
   "metadata": {},
   "source": [
    "To plot coherence l1 norm (l1), relative entropy(S) and success probability(P) as a funciton of number of iteration(noi) taking the Grover's operator as G = DO"
   ]
  },
  {
   "cell_type": "markdown",
   "id": "bb4eb2d5",
   "metadata": {},
   "source": [
    "O = ( I-2|ψ⟩⟨ψ| ) and D = ( 2|ψ1⟩⟨ψ1|-I )"
   ]
  },
  {
   "attachments": {
    "image-3.png": {
     "image/png": "[encoded data removed]"
    },
    "image-4.png": {
     "image/png": "[encoded data removed]"
    },
    "image-5.png": {
     "image/png": "[encoded data removed]"
    },
    "image-6.png": {
     "image/png": "[encoded data removed]"
    },
    "image-7.png": {
     "image/png": "[encoded data removed]"
    },
    "image-8.png": {
     "image/png": "[encoded data removed]"
    },
    "image.png": {
     "image/png": "[encoded data removed]"
    }
   },
   "cell_type": "markdown",
   "id": "318c0daf",
   "metadata": {},
   "source": [
    "l1 norm of coherence is given by![image.png](attachment:image.png)\n",
    "\n",
    "relative entropy is given by![image-8.png](attachment:image-8.png) with \n",
    "\n",
    "![image-3.png](attachment:image-3.png)   ;   ![image-4.png](attachment:image-4.png)   ;   ![image-5.png](attachment:image-5.png)   ;   ![image-6.png](attachment:image-6.png)   \n",
    "Success probability is determined by the formula![image-7.png](attachment:image-7.png)\n",
    "with t = number of target states and j = iteration number"
   ]
  },
  {
   "cell_type": "code",
   "execution_count": 15,
   "id": "3904289c",
   "metadata": {},
   "outputs": [
    {
     "name": "stdout",
     "output_type": "stream",
     "text": [
      "noi =  15\n",
      "Optimal noi =  6\n",
      "target =  [140.  44.  11.   8.]\n",
      "phi =  [3.141592653589793]\n",
      "x =  [(-1+1.2246467991473532e-16j)]\n"
     ]
    }
   ],
   "source": [
    "n = 8      #no. of qubits\n",
    "N = 2**n   #dimension of matrix\n",
    "t = 4      #no. of target states\n",
    "length = list(range(n))\n",
    "noi = 15   #taking same number of iteration for all cases\n",
    "noi_opt = math.floor(math.sqrt(N/t) * np.pi / 4)   #optimal No of iterations\n",
    "print(\"noi = \", noi)\n",
    "print(\"Optimal noi = \",noi_opt)\n",
    "\n",
    "#to set target states by randomly generating them\n",
    "target = np.zeros(t)    #to store target states\n",
    "count = 0\n",
    "flag = 0\n",
    "i = 0\n",
    "while(True):\n",
    "    #to generate a random integer for target position\n",
    "    a = random.randint(0,N-1)\n",
    "    \n",
    "    #checking if that number has already been chosen previously as target state\n",
    "    for j in range(count):\n",
    "        if(target[j] == a):\n",
    "            flag = 1  #value is present in the target array\n",
    "            \n",
    "    #to store new value in target array\n",
    "    if(flag == 0):\n",
    "        #to store in count position of target array\n",
    "        target[count] = a\n",
    "        #updating count (position) value\n",
    "        count += 1\n",
    "        #checking for further iteration of while loop\n",
    "        if(count == t):\n",
    "            break\n",
    "print(\"target = \",target)\n",
    "\n",
    "phi = [np.pi]    #setting at a particular value\n",
    "print(\"phi = \",phi)\n",
    "\n",
    "x = [complex(np.cos(a), np.sin(a)) for a in phi]\n",
    "print(\"x = \",x)\n",
    "\n",
    "#array to store coherence values after each suboperation in every grover's iteration\n",
    "l1 = np.zeros(noi)    #to store l1 norm of coherence values after each iteration\n",
    "S  = np.zeros(noi)    #to store relative entropy values after each iteration\n",
    "P  = np.zeros(noi)    #to store success probability after each iteration\n",
    "x_axis = list(range(noi))    #to store iteration number"
   ]
  },
  {
   "cell_type": "code",
   "execution_count": 16,
   "id": "cb292786",
   "metadata": {
    "scrolled": true
   },
   "outputs": [
    {
     "name": "stdout",
     "output_type": "stream",
     "text": [
      "======================================== FOR ϕ =  180.0 ========================================\n"
     ]
    },
    {
     "data": {
      "text/plain": [
       "'initialised |ψ0⟩'"
      ]
     },
     "metadata": {},
     "output_type": "display_data"
    },
    {
     "data": {
      "text/latex": [
       "$$ |00000000\\rangle$$"
      ],
      "text/plain": [
       "<IPython.core.display.Latex object>"
      ]
     },
     "metadata": {},
     "output_type": "display_data"
    },
    {
     "name": "stdout",
     "output_type": "stream",
     "text": [
      "coherence of |ψ0⟩ =  0.0\n"
     ]
    },
    {
     "data": {
      "text/plain": [
       "'applied Hadamard to all |ψ1⟩'"
      ]
     },
     "metadata": {},
     "output_type": "display_data"
    },
    {
     "data": {
      "text/latex": [
       "$$\\frac{1}{16} |00000000\\rangle+\\frac{1}{16} |00000001\\rangle+\\frac{1}{16} |00000010\\rangle+\\frac{1}{16} |00000011\\rangle+\\frac{1}{16} |00000100\\rangle+\\frac{1}{16} |00000101\\rangle + \\ldots +\\frac{1}{16} |11111011\\rangle+\\frac{1}{16} |11111100\\rangle+\\frac{1}{16} |11111101\\rangle+\\frac{1}{16} |11111110\\rangle+\\frac{1}{16} |11111111\\rangle$$"
      ],
      "text/plain": [
       "<IPython.core.display.Latex object>"
      ]
     },
     "metadata": {},
     "output_type": "display_data"
    },
    {
     "name": "stdout",
     "output_type": "stream",
     "text": [
      "coherence of |ψ1⟩ =  255.00000000000003\n",
      "-------- 1  ITERATION--------\n"
     ]
    },
    {
     "data": {
      "text/plain": [
       "'applied O operator to |ψ2⟩'"
      ]
     },
     "metadata": {},
     "output_type": "display_data"
    },
    {
     "data": {
      "text/latex": [
       "$$\\frac{1}{16} |00000000\\rangle+\\frac{1}{16} |00000001\\rangle+\\frac{1}{16} |00000010\\rangle+\\frac{1}{16} |00000011\\rangle+\\frac{1}{16} |00000100\\rangle+\\frac{1}{16} |00000101\\rangle + \\ldots +\\frac{1}{16} |11111011\\rangle+\\frac{1}{16} |11111100\\rangle+\\frac{1}{16} |11111101\\rangle+\\frac{1}{16} |11111110\\rangle+\\frac{1}{16} |11111111\\rangle$$"
      ],
      "text/plain": [
       "<IPython.core.display.Latex object>"
      ]
     },
     "metadata": {},
     "output_type": "display_data"
    },
    {
     "data": {
      "text/plain": [
       "'applied D operator to |ψ2⟩'"
      ]
     },
     "metadata": {},
     "output_type": "display_data"
    },
    {
     "data": {
      "text/latex": [
       "$$\\frac{15}{256} |00000000\\rangle+\\frac{15}{256} |00000001\\rangle+\\frac{15}{256} |00000010\\rangle+\\frac{15}{256} |00000011\\rangle+\\frac{15}{256} |00000100\\rangle+\\frac{15}{256} |00000101\\rangle + \\ldots +\\frac{15}{256} |11111011\\rangle+\\frac{15}{256} |11111100\\rangle+\\frac{15}{256} |11111101\\rangle+\\frac{15}{256} |11111110\\rangle+\\frac{15}{256} |11111111\\rangle$$"
      ],
      "text/plain": [
       "<IPython.core.display.Latex object>"
      ]
     },
     "metadata": {},
     "output_type": "display_data"
    },
    {
     "name": "stdout",
     "output_type": "stream",
     "text": [
      "coherence of |ψ2⟩ =  239.25\n",
      "l1 norm =  239.25\n",
      "relative entropy =  7.487029731423932\n",
      "-------- 2  ITERATION--------\n"
     ]
    },
    {
     "data": {
      "text/plain": [
       "'applied O operator to |ψ2⟩'"
      ]
     },
     "metadata": {},
     "output_type": "display_data"
    },
    {
     "data": {
      "text/latex": [
       "$$\\frac{15}{256} |00000000\\rangle+\\frac{15}{256} |00000001\\rangle+\\frac{15}{256} |00000010\\rangle+\\frac{15}{256} |00000011\\rangle+\\frac{15}{256} |00000100\\rangle+\\frac{15}{256} |00000101\\rangle + \\ldots +\\frac{15}{256} |11111011\\rangle+\\frac{15}{256} |11111100\\rangle+\\frac{15}{256} |11111101\\rangle+\\frac{15}{256} |11111110\\rangle+\\frac{15}{256} |11111111\\rangle$$"
      ],
      "text/plain": [
       "<IPython.core.display.Latex object>"
      ]
     },
     "metadata": {},
     "output_type": "display_data"
    },
    {
     "data": {
      "text/plain": [
       "'applied D operator to |ψ2⟩'"
      ]
     },
     "metadata": {},
     "output_type": "display_data"
    },
    {
     "data": {
      "text/latex": [
       "$$0.051025390625 |00000000\\rangle+0.051025390625 |00000001\\rangle+0.051025390625 |00000010\\rangle+0.051025390625 |00000011\\rangle+0.051025390625 |00000100\\rangle+0.051025390625 |00000101\\rangle + \\ldots +0.051025390625 |11111011\\rangle+0.051025390625 |11111100\\rangle+0.051025390625 |11111101\\rangle+0.051025390625 |11111110\\rangle+0.051025390625 |11111111\\rangle$$"
      ],
      "text/plain": [
       "<IPython.core.display.Latex object>"
      ]
     },
     "metadata": {},
     "output_type": "display_data"
    },
    {
     "name": "stdout",
     "output_type": "stream",
     "text": [
      "coherence of |ψ2⟩ =  195.8759765625\n",
      "l1 norm =  195.8759765625\n",
      "relative entropy =  6.513807047366417\n",
      "-------- 3  ITERATION--------\n"
     ]
    },
    {
     "data": {
      "text/plain": [
       "'applied O operator to |ψ2⟩'"
      ]
     },
     "metadata": {},
     "output_type": "display_data"
    },
    {
     "data": {
      "text/latex": [
       "$$0.051025390625 |00000000\\rangle+0.051025390625 |00000001\\rangle+0.051025390625 |00000010\\rangle+0.051025390625 |00000011\\rangle+0.051025390625 |00000100\\rangle+0.051025390625 |00000101\\rangle + \\ldots +0.051025390625 |11111011\\rangle+0.051025390625 |11111100\\rangle+0.051025390625 |11111101\\rangle+0.051025390625 |11111110\\rangle+0.051025390625 |11111111\\rangle$$"
      ],
      "text/plain": [
       "<IPython.core.display.Latex object>"
      ]
     },
     "metadata": {},
     "output_type": "display_data"
    },
    {
     "data": {
      "text/plain": [
       "'applied D operator to |ψ2⟩'"
      ]
     },
     "metadata": {},
     "output_type": "display_data"
    },
    {
     "data": {
      "text/latex": [
       "$$0.040267944336 |00000000\\rangle+0.040267944336 |00000001\\rangle+0.040267944336 |00000010\\rangle+0.040267944336 |00000011\\rangle+0.040267944336 |00000100\\rangle+0.040267944336 |00000101\\rangle + \\ldots +0.040267944336 |11111011\\rangle+0.040267944336 |11111100\\rangle+0.040267944336 |11111101\\rangle+0.040267944336 |11111110\\rangle+0.040267944336 |11111111\\rangle$$"
      ],
      "text/plain": [
       "<IPython.core.display.Latex object>"
      ]
     },
     "metadata": {},
     "output_type": "display_data"
    },
    {
     "name": "stdout",
     "output_type": "stream",
     "text": [
      "coherence of |ψ2⟩ =  135.55200576782227\n",
      "l1 norm =  135.55200576782227\n",
      "relative entropy =  5.175095080296234\n",
      "-------- 4  ITERATION--------\n"
     ]
    },
    {
     "data": {
      "text/plain": [
       "'applied O operator to |ψ2⟩'"
      ]
     },
     "metadata": {},
     "output_type": "display_data"
    },
    {
     "data": {
      "text/latex": [
       "$$0.040267944336 |00000000\\rangle+0.040267944336 |00000001\\rangle+0.040267944336 |00000010\\rangle+0.040267944336 |00000011\\rangle+0.040267944336 |00000100\\rangle+0.040267944336 |00000101\\rangle + \\ldots +0.040267944336 |11111011\\rangle+0.040267944336 |11111100\\rangle+0.040267944336 |11111101\\rangle+0.040267944336 |11111110\\rangle+0.040267944336 |11111111\\rangle$$"
      ],
      "text/plain": [
       "<IPython.core.display.Latex object>"
      ]
     },
     "metadata": {},
     "output_type": "display_data"
    },
    {
     "data": {
      "text/plain": [
       "'applied D operator to |ψ2⟩'"
      ]
     },
     "metadata": {},
     "output_type": "display_data"
    },
    {
     "data": {
      "text/latex": [
       "$$\\frac{4113178245070848 \\cdot 2^{\\frac{3}{4}} \\cdot \\sqrt[20]{3} \\cdot 5^{\\frac{13}{20}} \\cdot 7^{\\frac{4}{5}}}{512908935546875 \\pi^{\\frac{31}{4}}} |00000000\\rangle+\\frac{4113178245070848 \\cdot 2^{\\frac{3}{4}} \\cdot \\sqrt[20]{3} \\cdot 5^{\\frac{13}{20}} \\cdot 7^{\\frac{4}{5}}}{512908935546875 \\pi^{\\frac{31}{4}}} |00000001\\rangle+\\frac{4113178245070848 \\cdot 2^{\\frac{3}{4}} \\cdot \\sqrt[20]{3} \\cdot 5^{\\frac{13}{20}} \\cdot 7^{\\frac{4}{5}}}{512908935546875 \\pi^{\\frac{31}{4}}} |00000010\\rangle+\\frac{4113178245070848 \\cdot 2^{\\frac{3}{4}} \\cdot \\sqrt[20]{3} \\cdot 5^{\\frac{13}{20}} \\cdot 7^{\\frac{4}{5}}}{512908935546875 \\pi^{\\frac{31}{4}}} |00000011\\rangle+\\frac{4113178245070848 \\cdot 2^{\\frac{3}{4}} \\cdot \\sqrt[20]{3} \\cdot 5^{\\frac{13}{20}} \\cdot 7^{\\frac{4}{5}}}{512908935546875 \\pi^{\\frac{31}{4}}} |00000100\\rangle+\\frac{4113178245070848 \\cdot 2^{\\frac{3}{4}} \\cdot \\sqrt[20]{3} \\cdot 5^{\\frac{13}{20}} \\cdot 7^{\\frac{4}{5}}}{512908935546875 \\pi^{\\frac{31}{4}}} |00000101\\rangle + \\ldots +\\frac{4113178245070848 \\cdot 2^{\\frac{3}{4}} \\cdot \\sqrt[20]{3} \\cdot 5^{\\frac{13}{20}} \\cdot 7^{\\frac{4}{5}}}{512908935546875 \\pi^{\\frac{31}{4}}} |11111011\\rangle+\\frac{4113178245070848 \\cdot 2^{\\frac{3}{4}} \\cdot \\sqrt[20]{3} \\cdot 5^{\\frac{13}{20}} \\cdot 7^{\\frac{4}{5}}}{512908935546875 \\pi^{\\frac{31}{4}}} |11111100\\rangle+\\frac{4113178245070848 \\cdot 2^{\\frac{3}{4}} \\cdot \\sqrt[20]{3} \\cdot 5^{\\frac{13}{20}} \\cdot 7^{\\frac{4}{5}}}{512908935546875 \\pi^{\\frac{31}{4}}} |11111101\\rangle+\\frac{4113178245070848 \\cdot 2^{\\frac{3}{4}} \\cdot \\sqrt[20]{3} \\cdot 5^{\\frac{13}{20}} \\cdot 7^{\\frac{4}{5}}}{512908935546875 \\pi^{\\frac{31}{4}}} |11111110\\rangle+\\frac{4113178245070848 \\cdot 2^{\\frac{3}{4}} \\cdot \\sqrt[20]{3} \\cdot 5^{\\frac{13}{20}} \\cdot 7^{\\frac{4}{5}}}{512908935546875 \\pi^{\\frac{31}{4}}} |11111111\\rangle$$"
      ],
      "text/plain": [
       "<IPython.core.display.Latex object>"
      ]
     },
     "metadata": {},
     "output_type": "display_data"
    },
    {
     "name": "stdout",
     "output_type": "stream",
     "text": [
      "coherence of |ψ2⟩ =  73.12343980371952\n",
      "l1 norm =  73.12343980371952\n",
      "relative entropy =  3.7855049147008337\n",
      "-------- 5  ITERATION--------\n"
     ]
    },
    {
     "data": {
      "text/plain": [
       "'applied O operator to |ψ2⟩'"
      ]
     },
     "metadata": {},
     "output_type": "display_data"
    },
    {
     "data": {
      "text/latex": [
       "$$\\frac{4113178245070848 \\cdot 2^{\\frac{3}{4}} \\cdot \\sqrt[20]{3} \\cdot 5^{\\frac{13}{20}} \\cdot 7^{\\frac{4}{5}}}{512908935546875 \\pi^{\\frac{31}{4}}} |00000000\\rangle+\\frac{4113178245070848 \\cdot 2^{\\frac{3}{4}} \\cdot \\sqrt[20]{3} \\cdot 5^{\\frac{13}{20}} \\cdot 7^{\\frac{4}{5}}}{512908935546875 \\pi^{\\frac{31}{4}}} |00000001\\rangle+\\frac{4113178245070848 \\cdot 2^{\\frac{3}{4}} \\cdot \\sqrt[20]{3} \\cdot 5^{\\frac{13}{20}} \\cdot 7^{\\frac{4}{5}}}{512908935546875 \\pi^{\\frac{31}{4}}} |00000010\\rangle+\\frac{4113178245070848 \\cdot 2^{\\frac{3}{4}} \\cdot \\sqrt[20]{3} \\cdot 5^{\\frac{13}{20}} \\cdot 7^{\\frac{4}{5}}}{512908935546875 \\pi^{\\frac{31}{4}}} |00000011\\rangle+\\frac{4113178245070848 \\cdot 2^{\\frac{3}{4}} \\cdot \\sqrt[20]{3} \\cdot 5^{\\frac{13}{20}} \\cdot 7^{\\frac{4}{5}}}{512908935546875 \\pi^{\\frac{31}{4}}} |00000100\\rangle+\\frac{4113178245070848 \\cdot 2^{\\frac{3}{4}} \\cdot \\sqrt[20]{3} \\cdot 5^{\\frac{13}{20}} \\cdot 7^{\\frac{4}{5}}}{512908935546875 \\pi^{\\frac{31}{4}}} |00000101\\rangle + \\ldots +\\frac{4113178245070848 \\cdot 2^{\\frac{3}{4}} \\cdot \\sqrt[20]{3} \\cdot 5^{\\frac{13}{20}} \\cdot 7^{\\frac{4}{5}}}{512908935546875 \\pi^{\\frac{31}{4}}} |11111011\\rangle+\\frac{4113178245070848 \\cdot 2^{\\frac{3}{4}} \\cdot \\sqrt[20]{3} \\cdot 5^{\\frac{13}{20}} \\cdot 7^{\\frac{4}{5}}}{512908935546875 \\pi^{\\frac{31}{4}}} |11111100\\rangle+\\frac{4113178245070848 \\cdot 2^{\\frac{3}{4}} \\cdot \\sqrt[20]{3} \\cdot 5^{\\frac{13}{20}} \\cdot 7^{\\frac{4}{5}}}{512908935546875 \\pi^{\\frac{31}{4}}} |11111101\\rangle+\\frac{4113178245070848 \\cdot 2^{\\frac{3}{4}} \\cdot \\sqrt[20]{3} \\cdot 5^{\\frac{13}{20}} \\cdot 7^{\\frac{4}{5}}}{512908935546875 \\pi^{\\frac{31}{4}}} |11111110\\rangle+\\frac{4113178245070848 \\cdot 2^{\\frac{3}{4}} \\cdot \\sqrt[20]{3} \\cdot 5^{\\frac{13}{20}} \\cdot 7^{\\frac{4}{5}}}{512908935546875 \\pi^{\\frac{31}{4}}} |11111111\\rangle$$"
      ],
      "text/plain": [
       "<IPython.core.display.Latex object>"
      ]
     },
     "metadata": {},
     "output_type": "display_data"
    },
    {
     "data": {
      "text/plain": [
       "'applied D operator to |ψ2⟩'"
      ]
     },
     "metadata": {},
     "output_type": "display_data"
    },
    {
     "data": {
      "text/latex": [
       "$$0.012032449245 |00000000\\rangle+0.012032449245 |00000001\\rangle+0.012032449245 |00000010\\rangle+0.012032449245 |00000011\\rangle+0.012032449245 |00000100\\rangle+0.012032449245 |00000101\\rangle + \\ldots +0.012032449245 |11111011\\rangle+0.012032449245 |11111100\\rangle+0.012032449245 |11111101\\rangle+0.012032449245 |11111110\\rangle+0.012032449245 |11111111\\rangle$$"
      ],
      "text/plain": [
       "<IPython.core.display.Latex object>"
      ]
     },
     "metadata": {},
     "output_type": "display_data"
    },
    {
     "name": "stdout",
     "output_type": "stream",
     "text": [
      "coherence of |ψ2⟩ =  23.953558575420175\n",
      "l1 norm =  23.953558575420175\n",
      "relative entropy =  2.7539864531503717\n",
      "-------- 6  ITERATION--------\n"
     ]
    },
    {
     "data": {
      "text/plain": [
       "'applied O operator to |ψ2⟩'"
      ]
     },
     "metadata": {},
     "output_type": "display_data"
    },
    {
     "data": {
      "text/latex": [
       "$$0.012032449245 |00000000\\rangle+0.012032449245 |00000001\\rangle+0.012032449245 |00000010\\rangle+0.012032449245 |00000011\\rangle+0.012032449245 |00000100\\rangle+0.012032449245 |00000101\\rangle + \\ldots +0.012032449245 |11111011\\rangle+0.012032449245 |11111100\\rangle+0.012032449245 |11111101\\rangle+0.012032449245 |11111110\\rangle+0.012032449245 |11111111\\rangle$$"
      ],
      "text/plain": [
       "<IPython.core.display.Latex object>"
      ]
     },
     "metadata": {},
     "output_type": "display_data"
    },
    {
     "data": {
      "text/plain": [
       "'applied D operator to |ψ2⟩'"
      ]
     },
     "metadata": {},
     "output_type": "display_data"
    },
    {
     "data": {
      "text/latex": [
       "$$-0.003680881113 |00000000\\rangle-0.003680881113 |00000001\\rangle-0.003680881113 |00000010\\rangle-0.003680881113 |00000011\\rangle-0.003680881113 |00000100\\rangle-0.003680881113 |00000101\\rangle + \\ldots -0.003680881113 |11111011\\rangle-0.003680881113 |11111100\\rangle-0.003680881113 |11111101\\rangle-0.003680881113 |11111110\\rangle-0.003680881113 |11111111\\rangle$$"
      ],
      "text/plain": [
       "<IPython.core.display.Latex object>"
      ]
     },
     "metadata": {},
     "output_type": "display_data"
    },
    {
     "name": "stdout",
     "output_type": "stream",
     "text": [
      "coherence of |ψ2⟩ =  7.550739788319239\n",
      "l1 norm =  7.550739788319239\n",
      "relative entropy =  2.636229314420814\n",
      "-------- 7  ITERATION--------\n"
     ]
    },
    {
     "data": {
      "text/plain": [
       "'applied O operator to |ψ2⟩'"
      ]
     },
     "metadata": {},
     "output_type": "display_data"
    },
    {
     "data": {
      "text/latex": [
       "$$-0.003680881113 |00000000\\rangle-0.003680881113 |00000001\\rangle-0.003680881113 |00000010\\rangle-0.003680881113 |00000011\\rangle-0.003680881113 |00000100\\rangle-0.003680881113 |00000101\\rangle + \\ldots -0.003680881113 |11111011\\rangle-0.003680881113 |11111100\\rangle-0.003680881113 |11111101\\rangle-0.003680881113 |11111110\\rangle-0.003680881113 |11111111\\rangle$$"
      ],
      "text/plain": [
       "<IPython.core.display.Latex object>"
      ]
     },
     "metadata": {},
     "output_type": "display_data"
    },
    {
     "data": {
      "text/plain": [
       "'applied D operator to |ψ2⟩'"
      ]
     },
     "metadata": {},
     "output_type": "display_data"
    },
    {
     "data": {
      "text/latex": [
       "$$-0.019164156402 |00000000\\rangle-0.019164156402 |00000001\\rangle-0.019164156402 |00000010\\rangle-0.019164156402 |00000011\\rangle-0.019164156402 |00000100\\rangle-0.019164156402 |00000101\\rangle + \\ldots -0.019164156402 |11111011\\rangle-0.019164156402 |11111100\\rangle-0.019164156402 |11111101\\rangle-0.019164156402 |11111110\\rangle-0.019164156402 |11111111\\rangle$$"
      ],
      "text/plain": [
       "<IPython.core.display.Latex object>"
      ]
     },
     "metadata": {},
     "output_type": "display_data"
    },
    {
     "name": "stdout",
     "output_type": "stream",
     "text": [
      "coherence of |ψ2⟩ =  44.35443341540755\n",
      "l1 norm =  44.35443341540755\n",
      "relative entropy =  3.729163351307978\n",
      "-------- 8  ITERATION--------\n"
     ]
    },
    {
     "data": {
      "text/plain": [
       "'applied O operator to |ψ2⟩'"
      ]
     },
     "metadata": {},
     "output_type": "display_data"
    },
    {
     "data": {
      "text/latex": [
       "$$-0.019164156402 |00000000\\rangle-0.019164156402 |00000001\\rangle-0.019164156402 |00000010\\rangle-0.019164156402 |00000011\\rangle-0.019164156402 |00000100\\rangle-0.019164156402 |00000101\\rangle + \\ldots -0.019164156402 |11111011\\rangle-0.019164156402 |11111100\\rangle-0.019164156402 |11111101\\rangle-0.019164156402 |11111110\\rangle-0.019164156402 |11111111\\rangle$$"
      ],
      "text/plain": [
       "<IPython.core.display.Latex object>"
      ]
     },
     "metadata": {},
     "output_type": "display_data"
    },
    {
     "data": {
      "text/plain": [
       "'applied D operator to |ψ2⟩'"
      ]
     },
     "metadata": {},
     "output_type": "display_data"
    },
    {
     "data": {
      "text/latex": [
       "$$-0.033449671915 |00000000\\rangle-0.033449671915 |00000001\\rangle-0.033449671915 |00000010\\rangle-0.033449671915 |00000011\\rangle-0.033449671915 |00000100\\rangle-0.033449671915 |00000101\\rangle + \\ldots -0.033449671915 |11111011\\rangle-0.033449671915 |11111100\\rangle-0.033449671915 |11111101\\rangle-0.033449671915 |11111110\\rangle-0.033449671915 |11111111\\rangle$$"
      ],
      "text/plain": [
       "<IPython.core.display.Latex object>"
      ]
     },
     "metadata": {},
     "output_type": "display_data"
    },
    {
     "name": "stdout",
     "output_type": "stream",
     "text": [
      "coherence of |ψ2⟩ =  101.49668444416237\n",
      "l1 norm =  101.49668444416237\n",
      "relative entropy =  5.254979670728588\n",
      "-------- 9  ITERATION--------\n"
     ]
    },
    {
     "data": {
      "text/plain": [
       "'applied O operator to |ψ2⟩'"
      ]
     },
     "metadata": {},
     "output_type": "display_data"
    },
    {
     "data": {
      "text/latex": [
       "$$-0.033449671915 |00000000\\rangle-0.033449671915 |00000001\\rangle-0.033449671915 |00000010\\rangle-0.033449671915 |00000011\\rangle-0.033449671915 |00000100\\rangle-0.033449671915 |00000101\\rangle + \\ldots -0.033449671915 |11111011\\rangle-0.033449671915 |11111100\\rangle-0.033449671915 |11111101\\rangle-0.033449671915 |11111110\\rangle-0.033449671915 |11111111\\rangle$$"
      ],
      "text/plain": [
       "<IPython.core.display.Latex object>"
      ]
     },
     "metadata": {},
     "output_type": "display_data"
    },
    {
     "data": {
      "text/plain": [
       "'applied D operator to |ψ2⟩'"
      ]
     },
     "metadata": {},
     "output_type": "display_data"
    },
    {
     "data": {
      "text/latex": [
       "$$-0.045644582934 |00000000\\rangle-0.045644582934 |00000001\\rangle-0.045644582934 |00000010\\rangle-0.045644582934 |00000011\\rangle-0.045644582934 |00000100\\rangle-0.045644582934 |00000101\\rangle + \\ldots -0.045644582934 |11111011\\rangle-0.045644582934 |11111100\\rangle-0.045644582934 |11111101\\rangle-0.045644582934 |11111110\\rangle-0.045644582934 |11111111\\rangle$$"
      ],
      "text/plain": [
       "<IPython.core.display.Latex object>"
      ]
     },
     "metadata": {},
     "output_type": "display_data"
    },
    {
     "name": "stdout",
     "output_type": "stream",
     "text": [
      "coherence of |ψ2⟩ =  164.91514203525898\n",
      "l1 norm =  164.91514203525898\n",
      "relative entropy =  6.676913542659602\n",
      "-------- 10  ITERATION--------\n"
     ]
    },
    {
     "data": {
      "text/plain": [
       "'applied O operator to |ψ2⟩'"
      ]
     },
     "metadata": {},
     "output_type": "display_data"
    },
    {
     "data": {
      "text/latex": [
       "$$-0.045644582934 |00000000\\rangle-0.045644582934 |00000001\\rangle-0.045644582934 |00000010\\rangle-0.045644582934 |00000011\\rangle-0.045644582934 |00000100\\rangle-0.045644582934 |00000101\\rangle + \\ldots -0.045644582934 |11111011\\rangle-0.045644582934 |11111100\\rangle-0.045644582934 |11111101\\rangle-0.045644582934 |11111110\\rangle-0.045644582934 |11111111\\rangle$$"
      ],
      "text/plain": [
       "<IPython.core.display.Latex object>"
      ]
     },
     "metadata": {},
     "output_type": "display_data"
    },
    {
     "data": {
      "text/plain": [
       "'applied D operator to |ψ2⟩'"
      ]
     },
     "metadata": {},
     "output_type": "display_data"
    },
    {
     "data": {
      "text/latex": [
       "$$-0.05498670752 |00000000\\rangle-0.05498670752 |00000001\\rangle-0.05498670752 |00000010\\rangle-0.05498670752 |00000011\\rangle-0.05498670752 |00000100\\rangle-0.05498670752 |00000101\\rangle + \\ldots -0.05498670752 |11111011\\rangle-0.05498670752 |11111100\\rangle-0.05498670752 |11111101\\rangle-0.05498670752 |11111110\\rangle-0.05498670752 |11111111\\rangle$$"
      ],
      "text/plain": [
       "<IPython.core.display.Latex object>"
      ]
     },
     "metadata": {},
     "output_type": "display_data"
    },
    {
     "name": "stdout",
     "output_type": "stream",
     "text": [
      "coherence of |ψ2⟩ =  219.00292014132881\n",
      "l1 norm =  219.00292014132881\n",
      "relative entropy =  7.63431213722875\n",
      "-------- 11  ITERATION--------\n"
     ]
    },
    {
     "data": {
      "text/plain": [
       "'applied O operator to |ψ2⟩'"
      ]
     },
     "metadata": {},
     "output_type": "display_data"
    },
    {
     "data": {
      "text/latex": [
       "$$-0.05498670752 |00000000\\rangle-0.05498670752 |00000001\\rangle-0.05498670752 |00000010\\rangle-0.05498670752 |00000011\\rangle-0.05498670752 |00000100\\rangle-0.05498670752 |00000101\\rangle + \\ldots -0.05498670752 |11111011\\rangle-0.05498670752 |11111100\\rangle-0.05498670752 |11111101\\rangle-0.05498670752 |11111110\\rangle-0.05498670752 |11111111\\rangle$$"
      ],
      "text/plain": [
       "<IPython.core.display.Latex object>"
      ]
     },
     "metadata": {},
     "output_type": "display_data"
    },
    {
     "data": {
      "text/plain": [
       "'applied D operator to |ψ2⟩'"
      ]
     },
     "metadata": {},
     "output_type": "display_data"
    },
    {
     "data": {
      "text/latex": [
       "$$-0.060892162885 |00000000\\rangle-0.060892162885 |00000001\\rangle-0.060892162885 |00000010\\rangle-0.060892162885 |00000011\\rangle-0.060892162885 |00000100\\rangle-0.060892162885 |00000101\\rangle + \\ldots -0.060892162885 |11111011\\rangle-0.060892162885 |11111100\\rangle-0.060892162885 |11111101\\rangle-0.060892162885 |11111110\\rangle-0.060892162885 |11111111\\rangle$$"
      ],
      "text/plain": [
       "<IPython.core.display.Latex object>"
      ]
     },
     "metadata": {},
     "output_type": "display_data"
    },
    {
     "name": "stdout",
     "output_type": "stream",
     "text": [
      "coherence of |ψ2⟩ =  250.44935461891527\n",
      "l1 norm =  250.44935461891527\n",
      "relative entropy =  7.992204934170002\n",
      "-------- 12  ITERATION--------\n"
     ]
    },
    {
     "data": {
      "text/plain": [
       "'applied O operator to |ψ2⟩'"
      ]
     },
     "metadata": {},
     "output_type": "display_data"
    },
    {
     "data": {
      "text/latex": [
       "$$-0.060892162885 |00000000\\rangle-0.060892162885 |00000001\\rangle-0.060892162885 |00000010\\rangle-0.060892162885 |00000011\\rangle-0.060892162885 |00000100\\rangle-0.060892162885 |00000101\\rangle + \\ldots -0.060892162885 |11111011\\rangle-0.060892162885 |11111100\\rangle-0.060892162885 |11111101\\rangle-0.060892162885 |11111110\\rangle-0.060892162885 |11111111\\rangle$$"
      ],
      "text/plain": [
       "<IPython.core.display.Latex object>"
      ]
     },
     "metadata": {},
     "output_type": "display_data"
    },
    {
     "data": {
      "text/plain": [
       "'applied D operator to |ψ2⟩'"
      ]
     },
     "metadata": {},
     "output_type": "display_data"
    },
    {
     "data": {
      "text/latex": [
       "$$-0.06299185807 |00000000\\rangle-0.06299185807 |00000001\\rangle-0.06299185807 |00000010\\rangle-0.06299185807 |00000011\\rangle-0.06299185807 |00000100\\rangle-0.06299185807 |00000101\\rangle + \\ldots -0.06299185807 |11111011\\rangle-0.06299185807 |11111100\\rangle-0.06299185807 |11111101\\rangle-0.06299185807 |11111110\\rangle-0.06299185807 |11111111\\rangle$$"
      ],
      "text/plain": [
       "<IPython.core.display.Latex object>"
      ]
     },
     "metadata": {},
     "output_type": "display_data"
    },
    {
     "name": "stdout",
     "output_type": "stream",
     "text": [
      "coherence of |ψ2⟩ =  251.5156744829174\n",
      "l1 norm =  251.5156744829174\n",
      "relative entropy =  7.931505059253521\n",
      "-------- 13  ITERATION--------\n"
     ]
    },
    {
     "data": {
      "text/plain": [
       "'applied O operator to |ψ2⟩'"
      ]
     },
     "metadata": {},
     "output_type": "display_data"
    },
    {
     "data": {
      "text/latex": [
       "$$-0.06299185807 |00000000\\rangle-0.06299185807 |00000001\\rangle-0.06299185807 |00000010\\rangle-0.06299185807 |00000011\\rangle-0.06299185807 |00000100\\rangle-0.06299185807 |00000101\\rangle + \\ldots -0.06299185807 |11111011\\rangle-0.06299185807 |11111100\\rangle-0.06299185807 |11111101\\rangle-0.06299185807 |11111110\\rangle-0.06299185807 |11111111\\rangle$$"
      ],
      "text/plain": [
       "<IPython.core.display.Latex object>"
      ]
     },
     "metadata": {},
     "output_type": "display_data"
    },
    {
     "data": {
      "text/plain": [
       "'applied D operator to |ψ2⟩'"
      ]
     },
     "metadata": {},
     "output_type": "display_data"
    },
    {
     "data": {
      "text/latex": [
       "$$-0.061154562126 |00000000\\rangle-0.061154562126 |00000001\\rangle-0.061154562126 |00000010\\rangle-0.061154562126 |00000011\\rangle-0.061154562126 |00000100\\rangle-0.061154562126 |00000101\\rangle + \\ldots -0.061154562126 |11111011\\rangle-0.061154562126 |11111100\\rangle-0.061154562126 |11111101\\rangle-0.061154562126 |11111110\\rangle-0.061154562126 |11111111\\rangle$$"
      ],
      "text/plain": [
       "<IPython.core.display.Latex object>"
      ]
     },
     "metadata": {},
     "output_type": "display_data"
    },
    {
     "name": "stdout",
     "output_type": "stream",
     "text": [
      "coherence of |ψ2⟩ =  251.5156744832295\n",
      "l1 norm =  251.5156744832295\n",
      "relative entropy =  7.999341391264325\n",
      "-------- 14  ITERATION--------\n"
     ]
    },
    {
     "data": {
      "text/plain": [
       "'applied O operator to |ψ2⟩'"
      ]
     },
     "metadata": {},
     "output_type": "display_data"
    },
    {
     "data": {
      "text/latex": [
       "$$-0.061154562126 |00000000\\rangle-0.061154562126 |00000001\\rangle-0.061154562126 |00000010\\rangle-0.061154562126 |00000011\\rangle-0.061154562126 |00000100\\rangle-0.061154562126 |00000101\\rangle + \\ldots -0.061154562126 |11111011\\rangle-0.061154562126 |11111100\\rangle-0.061154562126 |11111101\\rangle-0.061154562126 |11111110\\rangle-0.061154562126 |11111111\\rangle$$"
      ],
      "text/plain": [
       "<IPython.core.display.Latex object>"
      ]
     },
     "metadata": {},
     "output_type": "display_data"
    },
    {
     "data": {
      "text/plain": [
       "'applied D operator to |ψ2⟩'"
      ]
     },
     "metadata": {},
     "output_type": "display_data"
    },
    {
     "data": {
      "text/latex": [
       "$$-0.055495106049 |00000000\\rangle-0.055495106049 |00000001\\rangle-0.055495106049 |00000010\\rangle-0.055495106049 |00000011\\rangle-0.055495106049 |00000100\\rangle-0.055495106049 |00000101\\rangle + \\ldots -0.055495106049 |11111011\\rangle-0.055495106049 |11111100\\rangle-0.055495106049 |11111101\\rangle-0.055495106049 |11111110\\rangle-0.055495106049 |11111111\\rangle$$"
      ],
      "text/plain": [
       "<IPython.core.display.Latex object>"
      ]
     },
     "metadata": {},
     "output_type": "display_data"
    },
    {
     "name": "stdout",
     "output_type": "stream",
     "text": [
      "coherence of |ψ2⟩ =  221.9394650798134\n",
      "l1 norm =  221.9394650798134\n",
      "relative entropy =  7.765489450961329\n",
      "-------- 15  ITERATION--------\n"
     ]
    },
    {
     "data": {
      "text/plain": [
       "'applied O operator to |ψ2⟩'"
      ]
     },
     "metadata": {},
     "output_type": "display_data"
    },
    {
     "data": {
      "text/latex": [
       "$$-0.055495106049 |00000000\\rangle-0.055495106049 |00000001\\rangle-0.055495106049 |00000010\\rangle-0.055495106049 |00000011\\rangle-0.055495106049 |00000100\\rangle-0.055495106049 |00000101\\rangle + \\ldots -0.055495106049 |11111011\\rangle-0.055495106049 |11111100\\rangle-0.055495106049 |11111101\\rangle-0.055495106049 |11111110\\rangle-0.055495106049 |11111111\\rangle$$"
      ],
      "text/plain": [
       "<IPython.core.display.Latex object>"
      ]
     },
     "metadata": {},
     "output_type": "display_data"
    },
    {
     "data": {
      "text/plain": [
       "'applied D operator to |ψ2⟩'"
      ]
     },
     "metadata": {},
     "output_type": "display_data"
    },
    {
     "data": {
      "text/latex": [
       "$$-0.046367205844 |00000000\\rangle-0.046367205844 |00000001\\rangle-0.046367205844 |00000010\\rangle-0.046367205844 |00000011\\rangle-0.046367205844 |00000100\\rangle-0.046367205844 |00000101\\rangle + \\ldots -0.046367205844 |11111011\\rangle-0.046367205844 |11111100\\rangle-0.046367205844 |11111101\\rangle-0.046367205844 |11111110\\rangle-0.046367205844 |11111111\\rangle$$"
      ],
      "text/plain": [
       "<IPython.core.display.Latex object>"
      ]
     },
     "metadata": {},
     "output_type": "display_data"
    },
    {
     "name": "stdout",
     "output_type": "stream",
     "text": [
      "coherence of |ψ2⟩ =  168.9992466922071\n",
      "l1 norm =  168.9992466922071\n",
      "relative entropy =  7.072215359605937\n"
     ]
    }
   ],
   "source": [
    "def iteration(i,a):\n",
    "    qc.barrier()\n",
    "    #count = i*2\n",
    "    copy_i = i    #storing copy of iteration number\n",
    "    copy_a = a    #storing copy of phi value\n",
    "    \n",
    "    #applying O operator\n",
    "    qc.append(O_operator,length)\n",
    "    result = execute(qc, backend).result()\n",
    "    state = result.get_statevector()\n",
    "    display(\"applied O operator to |ψ2⟩\", state.draw('latex'))\n",
    "    \n",
    "    #Applying D operator\n",
    "    qc.append(D_operator,length)\n",
    "    result = execute(qc, backend).result()\n",
    "    state = result.get_statevector()\n",
    "    display(\"applied D operator to |ψ2⟩\", state.draw('latex'))\n",
    "    density_operator = state.to_operator()\n",
    "    \n",
    "    #calculating coherence by l1 norm\n",
    "    coherence = 0\n",
    "    for i in range(N):\n",
    "        for j in range(N):\n",
    "            if(i != j):\n",
    "                coherence += abs(density_operator.data[i,j])\n",
    "    print(\"coherence of |ψ2⟩ = \",coherence)\n",
    "    l1[copy_i] = coherence\n",
    "    print(\"l1 norm = \",coherence)\n",
    "    \n",
    "    #calculating coherence by relative entropy\n",
    "    j = copy_i+1   #to store the actual iteration number \n",
    "    alpha = 2*np.arctan(np.sqrt(t/(N-t)))\n",
    "    alpha_j = (j+1/2.0)*alpha    \n",
    "    a = np.sin(alpha_j)\n",
    "    a_2 = a**2\n",
    "    H = -(a_2*math.log2(a_2)+(1-a_2)*math.log2(1-a_2))\n",
    "    Cr = H+math.log2(N-j)+a_2*math.log2(j/(N-j))\n",
    "    S[copy_i] = Cr\n",
    "    print(\"relative entropy = \",Cr)\n",
    "    \n",
    "    #calculating success probability\n",
    "    P[copy_i] = np.sin(alpha_j)**2\n",
    "    \n",
    "for a in range(len(phi)):\n",
    "    print(\"======================================== FOR ϕ = \", phi[a]*180/np.pi,\"========================================\")\n",
    "    qc = QuantumCircuit(n)\n",
    "    backend = Aer.get_backend('statevector_simulator')\n",
    "    result = execute(qc, backend).result()\n",
    "    state = result.get_statevector()\n",
    "    display(\"initialised |ψ0⟩\", state.draw('latex'))\n",
    "    density_operator = state.to_operator()\n",
    "    #print(density_operator.data)\n",
    "    coherence = 0\n",
    "    for i in range(N):\n",
    "        for j in range(N):\n",
    "            if(i != j):\n",
    "                coherence += abs(density_operator.data[i,j])\n",
    "    print(\"coherence of |ψ0⟩ = \",coherence)\n",
    "\n",
    "    qc.h(length)\n",
    "    result = execute(qc, backend).result()\n",
    "    state = result.get_statevector()\n",
    "    display(\"applied Hadamard to all |ψ1⟩\", state.draw('latex'))\n",
    "    density_operator = state.to_operator()\n",
    "    #print(density_operator.data)\n",
    "    coherence = 0\n",
    "    for i in range(N):\n",
    "        for j in range(N):\n",
    "            if(i != j):\n",
    "                coherence += abs(density_operator.data[i,j])\n",
    "    print(\"coherence of |ψ1⟩ = \",coherence)\n",
    "\n",
    "    #defining generalised O Operator\n",
    "    count = 0\n",
    "    choice = a\n",
    "    O_operator = Operator(np.zeros((N,N)))\n",
    "    for i in range(N):\n",
    "        for j in range(N):\n",
    "            if(i != j):   #off diagonal elements\n",
    "                O_operator.data[i][j] = 0\n",
    "            else:    #diagonal elements\n",
    "                flag = 0\n",
    "                for k in range(t):\n",
    "                    if(i == target[k]):\n",
    "                        O_operator.data[i][j] = x[choice]\n",
    "                        count += 1\n",
    "                        flag = 1\n",
    "                        break\n",
    "                if(flag == 0):\n",
    "                    O_operator.data[i][j] = 1            \n",
    "   \n",
    "    #defining D operator\n",
    "    D_operator = Operator(np.zeros((N,N)))\n",
    "    for i in range(N):\n",
    "        for j in range(N):\n",
    "            if(i == j):    #for diagonal elements\n",
    "                D_operator.data[i][j] = 2*density_operator.data[i][j]-1\n",
    "            else:          #for off-diagonal elements\n",
    "                D_operator.data[i][j] = 2*density_operator.data[i][j]\n",
    "    \n",
    "    #sending out for x iterations of grover's operator\n",
    "    for i in range(noi):\n",
    "        print(\"--------\",(i+1),\" ITERATION--------\")\n",
    "        iteration(i,a)    #a takes angle phi and i takes noi"
   ]
  },
  {
   "cell_type": "code",
   "execution_count": 17,
   "id": "fd1f8d7d",
   "metadata": {},
   "outputs": [
    {
     "name": "stdout",
     "output_type": "stream",
     "text": [
      "l1 =  [0.9345703125, 0.7651405334472656, 0.5295000225305557, 0.2856384367332794, 0.09356858818523506, 0.02949507729812203, 0.17325950552893574, 0.39647142361000925, 0.6441997735752304, 0.8554801568020657, 0.9783177914801378, 0.9824831034488961, 0.9824831034501152, 0.8669510354680211, 0.660153307391434]\n",
      "S_N =  [0.029246209888374734, 0.025444558778775068, 0.020215215157407165, 0.014787128573050132, 0.01075775958261864, 0.010297770759456305, 0.01456704434104679, 0.020527264338783546, 0.02608169352601407, 0.029821531786049803, 0.03121955052410157, 0.030982441637709066, 0.03124742730962627, 0.030333943167817692, 0.02762584124846069]\n",
      "P =  [1.34826660e-01 3.43895197e-01 5.91380150e-01 8.16377019e-01\n",
      " 9.63515482e-01 9.96585681e-01 9.07449248e-01 7.18042101e-01\n",
      " 4.74976156e-01 2.38068423e-01 6.56204138e-02 7.05058424e-05\n",
      " 5.75501218e-02 2.23913888e-01 4.58220720e-01]\n"
     ]
    },
    {
     "data": {
      "image/png": "[encoded data removed]",
      "text/plain": [
       "<Figure size 640x480 with 2 Axes>"
      ]
     },
     "metadata": {},
     "output_type": "display_data"
    }
   ],
   "source": [
    "l1_N = [a/N for a in l1]\n",
    "S_N  = [a/N for a in S]\n",
    "xa   = [a+1 for a in x_axis]\n",
    "\n",
    "print(\"l1 = \",l1_N)\n",
    "print(\"S_N = \",S_N)\n",
    "print(\"P = \",P)\n",
    "\n",
    "fig, ax1 = pl.subplots()\n",
    "pl.title(\"n = {} and t = {}\".format(n, t))\n",
    "color1 = 'tab:red'\n",
    "color2 = 'black'\n",
    "ax1.set_xlabel('----Number of iterations----')\n",
    "ax1.scatter(xa, l1_N, marker='d', color=color1, label='l1_norm/N')\n",
    "ax1.plot(xa, l1_N, color=color1)\n",
    "ax1.scatter(xa, P, color=color2, label='success probability')\n",
    "ax1.plot(xa, P, color=color2)\n",
    "pl.legend()\n",
    "ax1.set_ylabel(\"l1 norm and success probability\")\n",
    "pl.grid(True)\n",
    "\n",
    "ax2 = ax1.twinx()\n",
    "color = 'tab:blue'\n",
    "ax2.scatter(xa, S_N, color=color, label='S/N')\n",
    "ax2.plot(xa, S_N, color=color)\n",
    "pl.legend()\n",
    "ax2.set_ylabel('relatove entropy', color=color)\n",
    "ax2.tick_params(axis='y', labelcolor=color)\n",
    "\n",
    "fig.tight_layout()\n",
    "#pl.grid(True)\n",
    "pl.show()"
   ]
  },
  {
   "cell_type": "code",
   "execution_count": null,
   "id": "c92a7cb9",
   "metadata": {},
   "outputs": [],
   "source": []
  }
 ],
 "metadata": {
  "kernelspec": {
   "display_name": "Python 3 (ipykernel)",
   "language": "python",
   "name": "python3"
  },
  "language_info": {
   "codemirror_mode": {
    "name": "ipython",
    "version": 3
   },
   "file_extension": ".py",
   "mimetype": "text/x-python",
   "name": "python",
   "nbconvert_exporter": "python",
   "pygments_lexer": "ipython3",
   "version": "3.9.13"
  }
 },
 "nbformat": 4,
 "nbformat_minor": 5
}
